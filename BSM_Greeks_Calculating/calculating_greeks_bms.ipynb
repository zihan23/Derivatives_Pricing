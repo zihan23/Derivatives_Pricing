{
 "cells": [
  {
   "cell_type": "markdown",
   "metadata": {},
   "source": [
    "### Calculting Greeks via simulation (Black-Merton-Scholes)\n",
    "\n",
    "1. w/o common random numbers\n",
    "2.  w/ common random numbers\n",
    "3. via pathwise estimator\n",
    "4. via likelihood ratio"
   ]
  },
  {
   "cell_type": "code",
   "execution_count": 16,
   "metadata": {
    "collapsed": true
   },
   "outputs": [],
   "source": [
    "import numpy as np\n",
    "from scipy.stats import norm"
   ]
  },
  {
   "cell_type": "markdown",
   "metadata": {},
   "source": [
    "Set up parameters"
   ]
  },
  {
   "cell_type": "markdown",
   "metadata": {},
   "source": [
    "Exact values for delta, gamma, and vega"
   ]
  },
  {
   "cell_type": "code",
   "execution_count": 31,
   "metadata": {
    "collapsed": true
   },
   "outputs": [],
   "source": [
    "s0 = 900\n",
    "K = 900\n",
    "sig = 0.35\n",
    "T = 1\n",
    "r = 0.045\n",
    "q = 0.015\n",
    "\n",
    "delS = 0.05\n",
    "delSig = 0.001\n",
    "\n",
    "nN = 1000000"
   ]
  },
  {
   "cell_type": "code",
   "execution_count": 32,
   "metadata": {
    "collapsed": true
   },
   "outputs": [],
   "source": [
    "d1 = (np.log(s0/K) + (r - q + sig**2/2)*T)/(sig*np.sqrt(T))\n",
    "d2 = d1 - sig*np.sqrt(T)\n",
    "\n",
    "delC =  np.exp(-q*T) * norm.cdf(d1)\n",
    "# delP = -np.exp(-q*T)* norm.cdf(-d1)\n",
    "\n",
    "gammaC = np.exp(-q*T)*norm.pdf(d1)/(s0*sig*np.sqrt(T))\n",
    "# gammaP = gammaC\n",
    "\n",
    "vegaC = s0*np.sqrt(T)*np.exp(-q*T)*norm.pdf(d1)\n",
    "# vegaP = vegaC"
   ]
  },
  {
   "cell_type": "markdown",
   "metadata": {},
   "source": [
    "Simulation"
   ]
  },
  {
   "cell_type": "code",
   "execution_count": 33,
   "metadata": {
    "collapsed": true
   },
   "outputs": [],
   "source": [
    "np.random.seed(1234567)"
   ]
  },
  {
   "cell_type": "code",
   "execution_count": 34,
   "metadata": {
    "collapsed": true
   },
   "outputs": [],
   "source": [
    "z1 = np.random.randn(nN)\n",
    "z2 = np.random.randn(nN)\n",
    "z3 = np.random.randn(nN)"
   ]
  },
  {
   "cell_type": "markdown",
   "metadata": {},
   "source": [
    "Delta & Gamma"
   ]
  },
  {
   "cell_type": "code",
   "execution_count": 35,
   "metadata": {
    "collapsed": true
   },
   "outputs": [],
   "source": [
    "tmp1U = (s0 + delS)*np.exp((r-q-sig**2/2)*T)\n",
    "tmp1  =  s0      *np.exp((r-q-sig**2/2)*T)\n",
    "tmp1D = (s0-delS)*np.exp((r-q-sig**2/2)*T)\n",
    "\n",
    "tmp2 = sig*np.sqrt(T)\n",
    "\n",
    "# ---------------------------------\n",
    "# (1) W/ Common Random Numbers\n",
    "s = tmp1*np.exp(tmp2*z1)\n",
    "tmp = np.exp(-r*T)*np.maximum(s-K,0)\n",
    "\n",
    "s = tmp1U*np.exp(tmp2*z1)\n",
    "tmpU = np.exp(-r*T)*np.maximum(s-K,0)\n",
    "\n",
    "s = tmp1D*np.exp(tmp2*z1)\n",
    "tmpD = np.exp(-r*T)*np.maximum(s-K,0)\n",
    "\n",
    "delC_CRN1 = np.mean((tmpU - tmp))/delS\n",
    "delC_CRN2 = np.mean((tmpU - tmpD))/(2*delS)\n",
    "\n",
    "gam_CRN  = np.mean((tmpU - 2*tmp + tmpD))/(delS**2)\n",
    "\n",
    "# ----------------------------------\n",
    "# (2) W/O Common Random Numbers\n",
    "s =  tmp1*np.exp(tmp2*z1)\n",
    "tmp = np.exp(-r*T)*np.maximum(s - K,0)\n",
    "\n",
    "s = tmp1U*np.exp(tmp2*z2)\n",
    "tmpU = np.exp(-r*T)*np.maximum(s - K,0)\n",
    "\n",
    "s = tmp1D*np.exp(tmp2*z3)\n",
    "tmpD = np.exp(-r*T)*np.maximum(s - K,0)\n",
    "\n",
    "delC_tilde1 = np.mean((tmpU - tmp))/delS\n",
    "delC_tilde2 = np.mean((tmpU - tmpD))/(2*delS)\n",
    "\n",
    "gam_tilde  = np.mean((tmpU - 2*tmp + tmpD))/(delS**2)\n",
    "\n",
    "# ---------------------------------\n",
    "# (3) Pathwise Estimator\n",
    "s =  tmp1*np.exp(tmp2*z1)\n",
    "dhds0 = np.exp(-r*T)*(s>K)*s/s0\n",
    "delC_pathwise = np.mean(dhds0)\n",
    "\n",
    "gam_pathwise = np.nan\n",
    "\n",
    "# ----------------------------------\n",
    "# (4) Likelihood ratio\n",
    "scoreH_delta = np.exp(-r*T)*np.maximum(s - K,0)*z1/(s0*sig*np.sqrt(T))\n",
    "delC_likelihood = np.mean(scoreH_delta)\n",
    "\n",
    "scoreH_gamma = (z1**2 - 1)/(s0**2*sig**2*T) - z1/(s0**2*sig*np.sqrt(T))\n",
    "scoreH_gamma *= np.exp(-r*T)*np.maximum(s - K,0)\n",
    "gam_likelihood = np.mean(scoreH_gamma)"
   ]
  },
  {
   "cell_type": "markdown",
   "metadata": {},
   "source": [
    "Vega"
   ]
  },
  {
   "cell_type": "code",
   "execution_count": 36,
   "metadata": {
    "collapsed": true
   },
   "outputs": [],
   "source": [
    "tmp1U  =  s0 * np.exp((r - q - (sig + delSig)**2/2)*T)\n",
    "tmp1D  =  s0 * np.exp((r - q - (sig - delSig)**2/2)*T)\n",
    "\n",
    "tmp2U = (sig + delSig) * np.sqrt(T)\n",
    "tmp2D = (sig - delSig) * np.sqrt(T)\n",
    "\n",
    "# (1) W/ Common Random Numbers\n",
    "s = tmp1U * np.exp(tmp2U*z1)\n",
    "tmpU = np.exp(-r*T) * np.maximum(s-K,0)\n",
    "\n",
    "s = tmp1D * np.exp(tmp2D*z1)\n",
    "tmpD = np.exp(-r*T) * np.maximum(s-K,0)\n",
    "\n",
    "vega_CRN = np.mean((tmpU - tmpD)/(2*delSig))\n",
    "\n",
    "# (2) W/O Common Random Numbers\n",
    "s = tmp1U * np.exp(tmp2U*z1)\n",
    "tmpU = np.exp(-r*T) * np.maximum(s-K,0)\n",
    "\n",
    "s = tmp1D * np.exp(tmp2D*z2)\n",
    "tmpD = np.exp(-r*T) * np.maximum(s-K,0)\n",
    "\n",
    "vega_tilde = np.mean((tmpU - tmpD)/(2*delSig))\n",
    "\n",
    "# (3) Pathwise Estimator\n",
    "s =  tmp1 * np.exp(tmp2*z1)\n",
    "dhdsig = np.exp(-r*T) * (s>K) * (s/sig) * (np.log(s/s0) - (r - q+sig**2/2)*T)\n",
    "vega_pathwise = np.mean(dhdsig)\n",
    "\n",
    "# (4) Likelihood Ratio\n",
    "\n",
    "#scoreH = exp(-r*T)*np.maximum(s-K,0)*(sig*(sig*T-np.sqrt(T)*z1)-1)/sig\n",
    "scoreH = np.exp(-r*T)*np.maximum(s - K,0)*((z1**2-1)/sig - z1*np.sqrt(T))\n",
    "vega_likelihood = np.mean(scoreH)"
   ]
  },
  {
   "cell_type": "markdown",
   "metadata": {},
   "source": [
    "Displaying results"
   ]
  },
  {
   "cell_type": "code",
   "execution_count": 37,
   "metadata": {},
   "outputs": [
    {
     "name": "stdout",
     "output_type": "stream",
     "text": [
      "==================\n",
      "\tDelta\n",
      "==================\n",
      "Exact: 0.593868\n",
      "W/ CRN: 0.593956\n",
      "W/O CRN: 1.264384\n",
      "Pathwise estimator: 0.593918\n",
      "Likelihood estimator: 0.594591\n",
      "==================\n",
      "\tGamma\n",
      "==================\n",
      "Exact: 0.001206\n",
      "W/ CRN: 0.001456\n",
      "W/O CRN: 35.894010\n",
      "Pathwise estimator: nan\n",
      "Likelihood estimator: 0.001203\n",
      "==================\n",
      "\tVega\n",
      "==================\n",
      "Exact: 341.883577\n",
      "W/ CRN: 342.420846\n",
      "W/O CRN: 325.672163\n",
      "Pathwise estimator: 342.421407\n",
      "Likelihood estimator: 341.078136\n"
     ]
    }
   ],
   "source": [
    "print('==================')\n",
    "print('\\tDelta')\n",
    "print('==================')\n",
    "print('Exact: %f' % delC)\n",
    "print('W/ CRN: %f' % delC_CRN1)\n",
    "print('W/O CRN: %f' % delC_tilde1)\n",
    "print('Pathwise estimator: %f' % delC_pathwise)\n",
    "print('Likelihood estimator: %f' % delC_likelihood)\n",
    "print('==================')\n",
    "print('\\tGamma')\n",
    "print('==================')\n",
    "print('Exact: %f' % gammaC)\n",
    "print('W/ CRN: %f' % gam_CRN)\n",
    "print('W/O CRN: %f' % gam_tilde)\n",
    "print('Pathwise estimator: %f' % gam_pathwise)\n",
    "print('Likelihood estimator: %f' % gam_likelihood)\n",
    "print('==================')\n",
    "print('\\tVega')\n",
    "print('==================')\n",
    "print('Exact: %f' % vegaC)\n",
    "print('W/ CRN: %f' % vega_CRN)\n",
    "print('W/O CRN: %f' % vega_tilde)\n",
    "print('Pathwise estimator: %f' % vega_pathwise)\n",
    "print('Likelihood estimator: %f' % vega_likelihood)"
   ]
  }
 ],
 "metadata": {
  "kernelspec": {
   "display_name": "Python 3",
   "language": "python",
   "name": "python3"
  },
  "language_info": {
   "codemirror_mode": {
    "name": "ipython",
    "version": 3
   },
   "file_extension": ".py",
   "mimetype": "text/x-python",
   "name": "python",
   "nbconvert_exporter": "python",
   "pygments_lexer": "ipython3",
   "version": "3.7.2"
  }
 },
 "nbformat": 4,
 "nbformat_minor": 2
}
