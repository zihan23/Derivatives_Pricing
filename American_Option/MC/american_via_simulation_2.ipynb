{
 "cells": [
  {
   "cell_type": "markdown",
   "metadata": {},
   "source": [
    "### American option pricing via simulation"
   ]
  },
  {
   "cell_type": "code",
   "execution_count": 1,
   "metadata": {},
   "outputs": [],
   "source": [
    "import numpy as np\n",
    "from time import time\n",
    "import matplotlib.pyplot as plt\n",
    "# import our polynomial function\n",
    "from polynomials import constructX\n",
    "# linear regression\n",
    "from sklearn.linear_model import LinearRegression"
   ]
  },
  {
   "cell_type": "markdown",
   "metadata": {},
   "source": [
    "Parameters"
   ]
  },
  {
   "cell_type": "code",
   "execution_count": 2,
   "metadata": {},
   "outputs": [],
   "source": [
    "r = 0.10\n",
    "q = 0.01\n",
    "s0 = 100\n",
    "K = 100\n",
    "sig = 0.40\n",
    "T = 1\n",
    "\n",
    "m = 365 # daily excercise\n",
    "numPaths = 10000\n",
    "\n",
    "dt = T/m\n",
    "indicators = np.zeros(numPaths)"
   ]
  },
  {
   "cell_type": "markdown",
   "metadata": {},
   "source": [
    "Algorithm"
   ]
  },
  {
   "cell_type": "code",
   "execution_count": 4,
   "metadata": {},
   "outputs": [
    {
     "name": "stdout",
     "output_type": "stream",
     "text": [
      "Number of sims: 10000\n",
      "Elapsed times was 2.535405 seconds\n",
      "American price (Laguerre): 12.487710\n",
      "American price (Chebychev 1st): 12.518897\n",
      "American price (Chebuchev 2nd): 12.518897\n"
     ]
    }
   ],
   "source": [
    "sMin = 10\n",
    "sMax = 400\n",
    "\n",
    "typeOfPolynomial = 'Laguerre'\n",
    "\n",
    "st = time()\n",
    "\n",
    "#Initiate paths (not efficient; we should utilize the Brownian Bridge)\n",
    "# simulate stock prices\n",
    "s = np.zeros((m+1, numPaths))\n",
    "t = np.linspace(0, T, m+1)\n",
    "z = np.random.randn(m, numPaths)\n",
    "delta_log_s = (r - q - sig*sig/2)*dt + sig*np.sqrt(dt)*z\n",
    "log_s = np.zeros((m+1, numPaths))\n",
    "log_s[0,:] = np.log(s0)\n",
    "log_s[1:,:] = delta_log_s\n",
    "log_s = np.cumsum(log_s, 0)\n",
    "s = np.exp(log_s)\n",
    "\n",
    "P_1 = np.maximum(K - s[m,:], 0)\n",
    "P_2 = np.maximum(K - s[m,:], 0)\n",
    "P_3 = np.maximum(K - s[m,:], 0)\n",
    "vHat_1 = np.zeros(numPaths)\n",
    "vHat_2 = np.zeros(numPaths)\n",
    "vHat_3 = np.zeros(numPaths)\n",
    "\n",
    "for i in np.arange(m-1, 0, -1):\n",
    "    s_i = s[i, :]\n",
    "    g = np.maximum(K - s_i, 0)\n",
    "    # in-the-money indicator\n",
    "    indicator = (g > 0)\n",
    "    xi = s_i[indicator]\n",
    "    xXi_1 = constructX(xi, 'Laguerre')\n",
    "    xXi_2 = constructX(2*(xi - sMin)/(sMax - sMin) - 1, 'Chebychev_firstKind')\n",
    "    xXi_3 = constructX(2*(xi - sMin)/(sMax - sMin) - 1, 'Chebychev_secondKind')\n",
    "    yi_1 = np.exp(-r*dt)*P_1[indicator]\n",
    "    yi_2 = np.exp(-r*dt)*P_2[indicator]\n",
    "    yi_3 = np.exp(-r*dt)*P_3[indicator]\n",
    "    # regression\n",
    "    reg_1 = LinearRegression(fit_intercept=False).fit(xXi_1, yi_1)\n",
    "    alpha_1 = reg_1.coef_\n",
    "    reg_2 = LinearRegression(fit_intercept=False).fit(xXi_2, yi_2)\n",
    "    alpha_2 = reg_2.coef_\n",
    "    reg_3 = LinearRegression(fit_intercept=False).fit(xXi_3, yi_3)\n",
    "    alpha_3 = reg_3.coef_\n",
    "    vH_1 = np.dot(xXi_1, alpha_1)\n",
    "    vH_2 = np.dot(xXi_2, alpha_2)\n",
    "    vH_3 = np.dot(xXi_3, alpha_3)\n",
    "    vHat_1[indicator] = vH_1\n",
    "    vHat_2[indicator] = vH_2\n",
    "    vHat_3[indicator] = vH_3\n",
    "    \n",
    "    indx_1 = np.logical_and(indicator, g > vHat_1)\n",
    "    P_1[indx_1] = g[indx_1]\n",
    "    P_1[~indx_1] = np.exp(-r*dt)*P_1[~indx_1]\n",
    "    indx_2 = np.logical_and(indicator, g > vHat_2)\n",
    "    P_2[indx_2] = g[indx_2]\n",
    "    P_2[~indx_2] = np.exp(-r*dt)*P_2[~indx_2]\n",
    "    indx_3 = np.logical_and(indicator, g > vHat_3)\n",
    "    P_3[indx_3] = g[indx_3]\n",
    "    P_3[~indx_3] = np.exp(-r*dt)*P_3[~indx_3]\n",
    "\n",
    "et = time()\n",
    "    \n",
    "print('Number of sims: %i' % numPaths)\n",
    "print('Elapsed times was %f seconds' % (et-st))\n",
    "premiumHat_1 = np.exp(-r*dt) * np.mean(P_1)\n",
    "premiumHat_2 = np.exp(-r*dt) * np.mean(P_2)\n",
    "premiumHat_3 = np.exp(-r*dt) * np.mean(P_3)\n",
    "print('American price (Laguerre): %f' % premiumHat_1)\n",
    "print('American price (Chebychev 1st): %f' % premiumHat_2)\n",
    "print('American price (Chebuchev 2nd): %f' % premiumHat_3)"
   ]
  }
 ],
 "metadata": {
  "kernelspec": {
   "display_name": "Python 3",
   "language": "python",
   "name": "python3"
  },
  "language_info": {
   "codemirror_mode": {
    "name": "ipython",
    "version": 3
   },
   "file_extension": ".py",
   "mimetype": "text/x-python",
   "name": "python",
   "nbconvert_exporter": "python",
   "pygments_lexer": "ipython3",
   "version": "3.7.2"
  }
 },
 "nbformat": 4,
 "nbformat_minor": 2
}
